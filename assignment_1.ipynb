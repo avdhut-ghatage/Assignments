{
  "nbformat": 4,
  "nbformat_minor": 0,
  "metadata": {
    "colab": {
      "provenance": []
    },
    "kernelspec": {
      "name": "python3",
      "display_name": "Python 3"
    },
    "language_info": {
      "name": "python"
    }
  },
  "cells": [
    {
      "cell_type": "markdown",
      "source": [
        "1. In the below elements which of them are values or an expression? eg:- values can be\n",
        "integer or string and expressions will be mathematical operators."
      ],
      "metadata": {
        "id": "zjrVl-ZUPBjB"
      }
    },
    {
      "cell_type": "code",
      "source": [
        "*- Multiplication operator\n",
        "'hello'- string\n",
        "-87.5- float\n",
        "- - substraction operator\n",
        "/ - divider\n",
        "+ - addition\n",
        "6- Integer"
      ],
      "metadata": {
        "id": "5ovopUdlQE2P"
      },
      "execution_count": null,
      "outputs": []
    },
    {
      "cell_type": "markdown",
      "source": [
        "2. What is the difference between string and variable?"
      ],
      "metadata": {
        "id": "mZ9BCB3IPRIY"
      }
    },
    {
      "cell_type": "code",
      "source": [
        "variables are used to store the data whereas string are data  which is to be stored in different variables"
      ],
      "metadata": {
        "id": "OQYTTyeNPu7w"
      },
      "execution_count": null,
      "outputs": []
    },
    {
      "cell_type": "markdown",
      "source": [
        "3. Describe three different data types."
      ],
      "metadata": {
        "id": "NUvid8T6ROeo"
      }
    },
    {
      "cell_type": "code",
      "source": [
        "Three main basic data types are\n",
        "1. Itneger- int() e.g- a=2\n",
        "2. Float- float() e.g- a=2.5\n",
        "3. String- str() e.g- a=\"man\"\n"
      ],
      "metadata": {
        "id": "g8AHBv_QRMKJ"
      },
      "execution_count": null,
      "outputs": []
    },
    {
      "cell_type": "markdown",
      "source": [
        "4. What is an expression made up of? What do all expressions do?"
      ],
      "metadata": {
        "id": "PdIQ4LpgR8jB"
      }
    },
    {
      "cell_type": "code",
      "source": [
        "An expression is a combination of values, variables, operators, and calls to functions. Expressions need to be evaluated. \n",
        "If you ask Python to print an expression, the interpreter evaluates the expression and displays the result. e.g. a=2+c"
      ],
      "metadata": {
        "id": "QQ-2arhkSBbZ"
      },
      "execution_count": null,
      "outputs": []
    },
    {
      "cell_type": "markdown",
      "source": [
        "5. This assignment statements, like spam = 10. What is the difference between an\n",
        "expression and a statement?"
      ],
      "metadata": {
        "id": "6FysmIFWTG2w"
      }
    },
    {
      "cell_type": "code",
      "source": [
        "An expression is evaluated by interpretor whereas statement is just a data which is not evaluated"
      ],
      "metadata": {
        "id": "Gw9F0K2-TKeY"
      },
      "execution_count": null,
      "outputs": []
    },
    {
      "cell_type": "markdown",
      "source": [
        "6. After running the following code, what does the variable bacon contain?\n",
        "bacon = 22\n",
        "bacon + 1"
      ],
      "metadata": {
        "id": "KaknpNRCT36o"
      }
    },
    {
      "cell_type": "code",
      "source": [
        "bacon will contain value of 22 as it is not reassigned with bacon+1"
      ],
      "metadata": {
        "id": "S-4mDTUkT60Y"
      },
      "execution_count": null,
      "outputs": []
    },
    {
      "cell_type": "markdown",
      "source": [
        "7. What should the values of the following two terms be?\n",
        "&#39;spam&#39; + &#39;spamspam&#39; \n",
        "\n",
        "&#39;spam&#39; * 3"
      ],
      "metadata": {
        "id": "06oDigCvUKRo"
      }
    },
    {
      "cell_type": "code",
      "source": [
        "both will give - 'spamspamspam'"
      ],
      "metadata": {
        "id": "IEJvQWNFUMLg"
      },
      "execution_count": null,
      "outputs": []
    },
    {
      "cell_type": "markdown",
      "source": [
        "8. Why is eggs a valid variable name while 100 is invalid?"
      ],
      "metadata": {
        "id": "V65NZ0fJUcDv"
      }
    },
    {
      "cell_type": "code",
      "source": [
        "variables names should start with alphabets\n",
        "variables can contain numbers but cant start with numbers"
      ],
      "metadata": {
        "id": "TqTIQJFsUebv"
      },
      "execution_count": null,
      "outputs": []
    },
    {
      "cell_type": "markdown",
      "source": [
        "9. What three functions can be used to get the integer, floating-point number, or string\n",
        "version of a value?"
      ],
      "metadata": {
        "id": "36JJ_THlVGQY"
      }
    },
    {
      "cell_type": "code",
      "source": [
        "1. Itneger- int()\n",
        "2. Float- float() \n",
        "3. String- str() \n"
      ],
      "metadata": {
        "id": "X4NE9bShVJuo"
      },
      "execution_count": null,
      "outputs": []
    },
    {
      "cell_type": "markdown",
      "source": [
        "10. Why does this expression cause an error? How can you fix it?\n",
        "&#39;I have eaten &#39; + 99 + &#39; burritos.&#39;"
      ],
      "metadata": {
        "id": "o91KLO2BVRvY"
      }
    },
    {
      "cell_type": "code",
      "source": [
        "concatanation done with same data type\n",
        "correct ways- 'I have eaten ' + '99' + ' burritos.'\n",
        "              'I have eaten ' + str(99) + ' burritos.'"
      ],
      "metadata": {
        "id": "3-oWXwxIVSy4"
      },
      "execution_count": null,
      "outputs": []
    }
  ]
}